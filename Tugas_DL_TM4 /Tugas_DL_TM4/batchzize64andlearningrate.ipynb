{
  "nbformat": 4,
  "nbformat_minor": 0,
  "metadata": {
    "colab": {
      "private_outputs": true,
      "provenance": [],
      "gpuType": "T4",
      "include_colab_link": true
    },
    "kernelspec": {
      "name": "python3",
      "display_name": "Python 3"
    },
    "accelerator": "GPU"
  },
  "cells": [
    {
      "cell_type": "markdown",
      "metadata": {
        "id": "view-in-github",
        "colab_type": "text"
      },
      "source": [
        "<a href=\"https://colab.research.google.com/github/ryannayr16/Tugas_DL_TM4/blob/main/Tugas_DL_TM4%20/Tugas_DL_TM4/batchzize64andlearningrate.ipynb\" target=\"_parent\"><img src=\"https://colab.research.google.com/assets/colab-badge.svg\" alt=\"Open In Colab\"/></a>"
      ]
    },
    {
      "cell_type": "code",
      "metadata": {
        "id": "AJj2-4z3dBfk"
      },
      "source": [
        "#https://www.sitepoint.com/keras-digit-recognition-tutorial/"
      ],
      "execution_count": null,
      "outputs": []
    },
    {
      "cell_type": "markdown",
      "metadata": {
        "id": "dNfZ_DkSSu2b"
      },
      "source": [
        "Importing Dataset"
      ]
    },
    {
      "cell_type": "code",
      "metadata": {
        "id": "kHhJZ1f9He_U"
      },
      "source": [
        "import numpy as np\n",
        "\n",
        "def create_scaler(*args):\n",
        "  min_d = np.min(args[0])\n",
        "  max_d = np.max(args[0])\n",
        "  for partition in args:\n",
        "    if np.min(partition) < min_d:\n",
        "      min_d = np.min(partition)\n",
        "    if np.max(partition) > max_d:\n",
        "      max_d = np.max(partition)\n",
        "  return [min_d, max_d]\n",
        "\n",
        "def normalizer(scaler, df):\n",
        "  min_d = scaler[0]\n",
        "  max_d = scaler[1]\n",
        "  normalized_df = (df - min_d) / (max_d - min_d)\n",
        "  return normalized_df\n",
        "\n",
        "def denormalizer(scaler, normalized_df):\n",
        "  min_d = scaler[0]\n",
        "  max_d = scaler[1]\n",
        "  denormalized_df = normalized_df * (max_d - min_d) + min_d\n",
        "  return denormalized_df"
      ],
      "execution_count": null,
      "outputs": []
    },
    {
      "cell_type": "code",
      "metadata": {
        "id": "_Yr7S-MLN65-"
      },
      "source": [
        "from keras.datasets import mnist\n",
        "import matplotlib.pyplot as plt\n",
        "%matplotlib inline"
      ],
      "execution_count": null,
      "outputs": []
    },
    {
      "cell_type": "code",
      "metadata": {
        "id": "Ec6C2zW6ODK_"
      },
      "source": [
        "(X_train, y_train), (X_test, y_test) = mnist.load_data()\n",
        "print(X_train.shape)\n",
        "print(X_test.shape)\n",
        "print(y_train.shape)\n",
        "print(y_test.shape)"
      ],
      "execution_count": null,
      "outputs": []
    },
    {
      "cell_type": "markdown",
      "metadata": {
        "id": "xSWxihNlSs1o"
      },
      "source": [
        "Preprocessing"
      ]
    },
    {
      "cell_type": "code",
      "metadata": {
        "id": "VdnVriRNOAu-"
      },
      "source": [
        "#show one image with label\n",
        "print(y_train[0])\n",
        "plt.imshow(X_train[0], cmap='Greys')\n",
        "plt.show()"
      ],
      "execution_count": null,
      "outputs": []
    },
    {
      "cell_type": "code",
      "metadata": {
        "id": "oxBNwNafOVqU"
      },
      "source": [
        "#change shape to IMAGES only for CNN input\n",
        "X_train = X_train.reshape(60000, 28, 28, 1)\n",
        "X_test = X_test.reshape(10000, 28, 28, 1)\n",
        "#the labels are already in an acceptable shape"
      ],
      "execution_count": null,
      "outputs": []
    },
    {
      "cell_type": "code",
      "metadata": {
        "id": "4Hrqvb_KHdn3"
      },
      "source": [
        "#normalize image data only\n",
        "scaler = create_scaler([0, 255])\n",
        "X_train_ = normalizer(scaler, X_train)\n",
        "X_test_ = normalizer(scaler, X_test)"
      ],
      "execution_count": null,
      "outputs": []
    },
    {
      "cell_type": "code",
      "metadata": {
        "id": "sijhvyQqPUzU"
      },
      "source": [
        "#DEPRECATED: normalize, identical to the new method\n",
        "import numpy as np\n",
        "X_train = np.array(X_train, dtype=np.float64)\n",
        "X_test = np.array(X_test, dtype=np.float64)\n",
        "X_train /= 255\n",
        "X_test /= 255"
      ],
      "execution_count": null,
      "outputs": []
    },
    {
      "cell_type": "code",
      "metadata": {
        "id": "B0LuUKaHOXNm"
      },
      "source": [
        "'''\n",
        "#se lo si attiva, il modello si sputtana\n",
        "from keras.utils import to_categorical\n",
        "num_classes = 10\n",
        "\n",
        "y_train = to_categorical(y_train, num_classes)\n",
        "y_test = to_categorical(y_test, num_classes)\n",
        "#y sono i labels one_hot: [0., 0., 0., 0., 0., 0., 0., 1., 0., 0.]\n",
        "'''"
      ],
      "execution_count": null,
      "outputs": []
    },
    {
      "cell_type": "markdown",
      "metadata": {
        "id": "ggpGXDo8Sx72"
      },
      "source": [
        "CNN"
      ]
    },
    {
      "cell_type": "code",
      "metadata": {
        "id": "f65mT0M1QFhz"
      },
      "source": [
        "import tensorflow\n",
        "from keras.models import Sequential\n",
        "from keras.layers import Dense, Dropout, Flatten, Conv2D, MaxPooling2D\n",
        "import tensorflow as tf\n",
        "model = Sequential()\n",
        "model.add(Conv2D(32, kernel_size=(3, 3),\n",
        "     activation='relu',\n",
        "     input_shape=(28, 28, 1))) #image size\n",
        "model.add(Conv2D(64, (3, 3), activation='relu'))\n",
        "model.add(MaxPooling2D(pool_size=(2, 2)))\n",
        "model.add(Dropout(0.25))\n",
        "model.add(Flatten())\n",
        "model.add(Dense(128, activation='relu'))\n",
        "model.add(Dropout(0.5))\n",
        "model.add(Dense(10, activation='softmax')) #number of classes\n",
        "\n",
        "model.compile(loss='sparse_categorical_crossentropy',\n",
        "      optimizer=tf.keras.optimizers.Adam(learning_rate=0.001),\n",
        "      metrics=['accuracy'])\n",
        "\n",
        "batch_size = 64\n",
        "epochs = 50\n",
        "\n",
        "model.fit(X_train_, y_train,\n",
        "          batch_size=batch_size,\n",
        "          epochs=epochs,\n",
        "          verbose=2,\n",
        "          validation_data=(X_test, y_test))\n",
        "\n",
        "score = model.evaluate(X_test, y_test, verbose=2)\n",
        "print('Test loss:', score[0])\n",
        "print('Test accuracy:', score[1])"
      ],
      "execution_count": null,
      "outputs": []
    },
    {
      "cell_type": "code",
      "metadata": {
        "id": "4tqjFmu9TG31"
      },
      "source": [
        "#   summarize model_1\n",
        "#input layer not included\n",
        "model.summary(line_length=None, positions=None, print_fn=None)"
      ],
      "execution_count": null,
      "outputs": []
    },
    {
      "cell_type": "code",
      "metadata": {
        "id": "TE0olDrcTK3p"
      },
      "source": [
        "from tensorflow.keras.utils import plot_model\n",
        "plot_model(model, show_shapes=True, show_layer_names=True)\n",
        "\n"
      ],
      "execution_count": null,
      "outputs": []
    },
    {
      "cell_type": "markdown",
      "metadata": {
        "id": "oYLj934QAhDe"
      },
      "source": [
        "Image"
      ]
    },
    {
      "cell_type": "code",
      "metadata": {
        "id": "AKbC8SlMdSxF"
      },
      "source": [
        "import imageio\n",
        "import numpy as np\n",
        "from matplotlib import pyplot as plt\n",
        "\n",
        "# Provide the path to the local image file\n",
        "file_path = \"../content/undefined - Imgur.png\"\n",
        "\n",
        "try:\n",
        "    # Read the image from the local file\n",
        "    im = imageio.imread(file_path)\n",
        "\n",
        "    # Display the image\n",
        "    plt.imshow(im)\n",
        "    plt.axis('off')  # Turn off axis numbers and ticks\n",
        "    plt.show()\n",
        "except Exception as e:\n",
        "    print(\"Error:\", e)\n"
      ],
      "execution_count": null,
      "outputs": []
    },
    {
      "cell_type": "code",
      "metadata": {
        "id": "wdCv4kFndULD"
      },
      "source": [
        "#visualize image\n",
        "gray = np.dot(im[...,:3], [0.299, 0.587, 0.114])\n",
        "plt.imshow(gray, cmap = plt.get_cmap('gray'))\n",
        "plt.show()"
      ],
      "execution_count": null,
      "outputs": []
    },
    {
      "cell_type": "code",
      "metadata": {
        "id": "_n21EU0odYGP"
      },
      "source": [
        "# reshape the image\n",
        "gray = gray.reshape(1, 28, 28, 1)\n",
        "\n",
        "# normalize image\n",
        "gray /= 255"
      ],
      "execution_count": null,
      "outputs": []
    },
    {
      "cell_type": "markdown",
      "metadata": {
        "id": "HJN_O6h6ATLC"
      },
      "source": [
        "Prediction"
      ]
    },
    {
      "cell_type": "code",
      "metadata": {
        "id": "dUWdmHjMs0Yd"
      },
      "source": [
        "#predict digit in x_train\n",
        "prediction = model.predict(X_test[0].reshape(1, 28, 28, 1))\n",
        "print(y_test[0], prediction.argmax())"
      ],
      "execution_count": null,
      "outputs": []
    },
    {
      "cell_type": "code",
      "metadata": {
        "id": "0ZbPf9GNQ3T8"
      },
      "source": [
        "print(y_test[0])\n",
        "plt.imshow(X_test[0], cmap='Greys')\n",
        "plt.show()"
      ],
      "execution_count": null,
      "outputs": []
    },
    {
      "cell_type": "code",
      "metadata": {
        "id": "V3DQftc5tU-C"
      },
      "source": [
        "#predict digit from img\n",
        "prediction = model.predict(gray)\n",
        "print(prediction.argmax())"
      ],
      "execution_count": null,
      "outputs": []
    }
  ]
}